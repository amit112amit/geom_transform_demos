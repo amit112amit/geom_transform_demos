{
 "cells": [
  {
   "cell_type": "markdown",
   "id": "attached-moderator",
   "metadata": {},
   "source": [
    "# Symbolic Transformation"
   ]
  },
  {
   "cell_type": "code",
   "execution_count": 1,
   "id": "turkish-dietary",
   "metadata": {},
   "outputs": [],
   "source": [
    "import sympy as sp\n",
    "import numpy as np\n",
    "sp.init_printing()"
   ]
  },
  {
   "cell_type": "code",
   "execution_count": 2,
   "id": "proof-poster",
   "metadata": {},
   "outputs": [],
   "source": [
    "x1, x2, x3 = sp.symbols('x1, x2, x3')\n",
    "a11, a12, a13, a21, a22, a23, a31, a32, a33, tx, ty, tz, v1, v2, v3, v = sp.symbols('a11, a12, a13, a21, a22, a23, a31, a32, a33, tx, ty, tz, v1, v2, v3, v')"
   ]
  },
  {
   "cell_type": "code",
   "execution_count": 3,
   "id": "opponent-pavilion",
   "metadata": {},
   "outputs": [
    {
     "data": {
      "image/png": "[encoded data removed]",
      "text/latex": [
       "$$\\left[\\begin{matrix}x_{1}\\\\x_{2}\\\\x_{3}\\\\1\\end{matrix}\\right]$$"
      ],
      "text/plain": [
       "⎡x₁⎤\n",
       "⎢  ⎥\n",
       "⎢x₂⎥\n",
       "⎢  ⎥\n",
       "⎢x₃⎥\n",
       "⎢  ⎥\n",
       "⎣1 ⎦"
      ]
     },
     "execution_count": 3,
     "metadata": {},
     "output_type": "execute_result"
    }
   ],
   "source": [
    "H = sp.Matrix([[a11, a12, a13, tx], [a21, a22, a23, ty], [a31, a32, a33, tz], [v1, v2, v3, v]])\n",
    "x = sp.Matrix([[x1], [x2], [x3], [1]])\n",
    "x"
   ]
  },
  {
   "cell_type": "code",
   "execution_count": 4,
   "id": "designed-lebanon",
   "metadata": {},
   "outputs": [
    {
     "data": {
      "image/png": "[encoded data removed]",
      "text/latex": [
       "$$\\left[\\begin{matrix}a_{11} & a_{12} & a_{13} & tx\\\\a_{21} & a_{22} & a_{23} & ty\\\\a_{31} & a_{32} & a_{33} & tz\\\\v_{1} & v_{2} & v_{3} & v\\end{matrix}\\right]$$"
      ],
      "text/plain": [
       "⎡a₁₁  a₁₂  a₁₃  tx⎤\n",
       "⎢                 ⎥\n",
       "⎢a₂₁  a₂₂  a₂₃  ty⎥\n",
       "⎢                 ⎥\n",
       "⎢a₃₁  a₃₂  a₃₃  tz⎥\n",
       "⎢                 ⎥\n",
       "⎣v₁   v₂   v₃   v ⎦"
      ]
     },
     "execution_count": 4,
     "metadata": {},
     "output_type": "execute_result"
    }
   ],
   "source": [
    "H"
   ]
  },
  {
   "cell_type": "code",
   "execution_count": 5,
   "id": "facial-complaint",
   "metadata": {},
   "outputs": [
    {
     "data": {
      "image/png": "[encoded data removed]",
      "text/latex": [
       "$$\\left[\\begin{matrix}a_{11} x_{1} + a_{12} x_{2} + a_{13} x_{3} + tx\\\\a_{21} x_{1} + a_{22} x_{2} + a_{23} x_{3} + ty\\\\a_{31} x_{1} + a_{32} x_{2} + a_{33} x_{3} + tz\\\\v + v_{1} x_{1} + v_{2} x_{2} + v_{3} x_{3}\\end{matrix}\\right]$$"
      ],
      "text/plain": [
       "⎡a₁₁⋅x₁ + a₁₂⋅x₂ + a₁₃⋅x₃ + tx⎤\n",
       "⎢                             ⎥\n",
       "⎢a₂₁⋅x₁ + a₂₂⋅x₂ + a₂₃⋅x₃ + ty⎥\n",
       "⎢                             ⎥\n",
       "⎢a₃₁⋅x₁ + a₃₂⋅x₂ + a₃₃⋅x₃ + tz⎥\n",
       "⎢                             ⎥\n",
       "⎣  v + v₁⋅x₁ + v₂⋅x₂ + v₃⋅x₃  ⎦"
      ]
     },
     "execution_count": 5,
     "metadata": {},
     "output_type": "execute_result"
    }
   ],
   "source": [
    "xp = H.multiply(x)\n",
    "xp"
   ]
  },
  {
   "cell_type": "code",
   "execution_count": 7,
   "id": "affecting-carter",
   "metadata": {},
   "outputs": [
    {
     "data": {
      "image/png": "[encoded data removed]",
      "text/latex": [
       "$$\\left[\\begin{matrix}\\frac{x_{1}}{v + v_{1} x_{1} + v_{2} x_{2} + v_{3} x_{3}}\\\\\\frac{x_{2}}{v + v_{1} x_{1} + v_{2} x_{2} + v_{3} x_{3}}\\\\\\frac{x_{3}}{v + v_{1} x_{1} + v_{2} x_{2} + v_{3} x_{3}}\\\\1\\end{matrix}\\right]$$"
      ],
      "text/plain": [
       "⎡            x₁           ⎤\n",
       "⎢─────────────────────────⎥\n",
       "⎢v + v₁⋅x₁ + v₂⋅x₂ + v₃⋅x₃⎥\n",
       "⎢                         ⎥\n",
       "⎢            x₂           ⎥\n",
       "⎢─────────────────────────⎥\n",
       "⎢v + v₁⋅x₁ + v₂⋅x₂ + v₃⋅x₃⎥\n",
       "⎢                         ⎥\n",
       "⎢            x₃           ⎥\n",
       "⎢─────────────────────────⎥\n",
       "⎢v + v₁⋅x₁ + v₂⋅x₂ + v₃⋅x₃⎥\n",
       "⎢                         ⎥\n",
       "⎣            1            ⎦"
      ]
     },
     "execution_count": 7,
     "metadata": {},
     "output_type": "execute_result"
    }
   ],
   "source": [
    "xps = xp.subs([(a11, 1), (a12, 0), (a13, 0), (a21, 0), (a22, 1), (a23, 0), (a31, 0), (a32, 0), (a33, 1), (tx, 0), (ty, 0), (tz, 0)])\n",
    "xps /= xps[3, 0]\n",
    "xps"
   ]
  },
  {
   "cell_type": "code",
   "execution_count": null,
   "id": "described-authentication",
   "metadata": {},
   "outputs": [],
   "source": []
  }
 ],
 "metadata": {
  "kernelspec": {
   "display_name": "Python 3",
   "language": "python",
   "name": "python3"
  },
  "language_info": {
   "codemirror_mode": {
    "name": "ipython",
    "version": 3
   },
   "file_extension": ".py",
   "mimetype": "text/x-python",
   "name": "python",
   "nbconvert_exporter": "python",
   "pygments_lexer": "ipython3",
   "version": "3.7.3"
  }
 },
 "nbformat": 4,
 "nbformat_minor": 5
}
